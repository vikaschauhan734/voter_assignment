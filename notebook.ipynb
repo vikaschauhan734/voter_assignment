{
 "cells": [
  {
   "cell_type": "markdown",
   "metadata": {},
   "source": [
    "### Converted pdf into images and saved in img folder"
   ]
  },
  {
   "cell_type": "code",
   "execution_count": 1,
   "metadata": {},
   "outputs": [],
   "source": [
    "# Importing neccessary libraries\n",
    "import pandas as pd\n",
    "from PIL import Image\n",
    "from pytesseract import pytesseract\n",
    "import re"
   ]
  },
  {
   "cell_type": "code",
   "execution_count": 2,
   "metadata": {},
   "outputs": [],
   "source": [
    "# Defining paths to tesseract.exe\n",
    "path_to_tesseract = r\"C:\\Program Files\\Tesseract-OCR\\tesseract.exe\""
   ]
  },
  {
   "cell_type": "markdown",
   "metadata": {},
   "source": [
    "### Our desired data is in image 2 to 7. So we read only that images"
   ]
  },
  {
   "cell_type": "code",
   "execution_count": 3,
   "metadata": {},
   "outputs": [],
   "source": [
    "# Opening the image & storing it in an image object\n",
    "img = Image.open(\"img/7.jpg\")"
   ]
  },
  {
   "cell_type": "code",
   "execution_count": 4,
   "metadata": {},
   "outputs": [],
   "source": [
    "# Providing the tesseract executable location to pytesseract library\n",
    "pytesseract.tesseract_cmd = path_to_tesseract"
   ]
  },
  {
   "cell_type": "code",
   "execution_count": 5,
   "metadata": {},
   "outputs": [],
   "source": [
    "# Extracting the text from the image\n",
    "text = pytesseract.image_to_string(img, lang =\"hin\")"
   ]
  },
  {
   "cell_type": "code",
   "execution_count": 6,
   "metadata": {},
   "outputs": [
    {
     "data": {
      "text/plain": [
       "'विधानसभा निर्वाचन क्षेत्र का नाम और संख्या : 62-बहरोड़ भाग संख्या : : 4\\n\\nअनुभाग संख्या एवं नाम : 7-रघुनाथपुरा,रघुनाथपुरा\\n»00॥308\\nनिर्वाचक का नाम : आशा देवी\\n\\nनिर्वाचक का नाम : सुनिता\\nपति का नाम: राजकुमार पति का नाम: जितेंद्र सिंह\\nमकान संख्या : 7 फोटो उपलब्ध\\nउम्र : 66 लिंग: महिला\\n(3/08/058/000293\\n\\nमकान संख्या : 8 फोटो उपलब्ध\\n| __॥97]\\n\\nउप्र : 3। लिंग: महिला\\nनिर्वाचक का नाम : रेशमी\\nपति का नाम: लालाराम\\nमकान संख्या : 8 फोटो उपलब्ध\\nउम्र: 74 लिंग: महिला\\n\\n| __॥॥2]\\n\\nम2 ॥57 7020748429 +#02002855\\n\\nनिर्वाचक का नाम : सुरेंद्र सिंग पादव\\nपिता का नाम: लाला राम यादव ५४\\n\\nमकान संख्या : 8\\nउम्र : 45 लिंग : पुरुष\\n\\nशा] [__/ ॥»|\\n\\nनिर्वाचक का नाम : लाला राम निर्वाचक का नाम : जितेन्द्र\\nपिता का नाम: प्रभु दयाल पिता का नाम: लालाराम\\nमकान संख्या : 8 मकान संख्या : 8 फ़ोटो उपलब्ध\\n\\nउम्र : 63 लिंग : पुरुष उम्र : 37 लिंग: पुरुष\\n\\n४>५४]॥98373 54 8.//08/058/000422\\n\\n| 763 |\\n\\nनिर्वाचक का नाम : प्रमिला निर्वाचक का नाम : रतीराम निर्वाचक का नाम : शकुन्तला\\n\\nपति का नाम: सुरेन्द्र पिता का नाम: प्रहलाद पति का नाम: रतीराम\\n\\nमकान संख्या : 8 फोटो उपलब्ध | | | मकान संख्या : 9 मकान संख्या : 9 फ़ोटो उपलब्ध\\nउम्र : 38 लिंग; महिला उम्र : 55 लिंग: पुरुष उम्र : 50 लिंग: महिला\\n\\n+3/08/058/000588 83/08/058/0004॥4\\n\\nकी की\\n\\n| ॥70 300/98407\\n\\nनिर्वाचक का नाम : नरेशकुमार\\n\\nपिता का नाम: लालाराम\\n\\nमकान संख्या : 20 फोटो उपलब्ध\\nउम्र : 38 लिंग : पुरुष\\n\\n| ॥73 #020273938\\n\\nनिर्वाचक का नाम : बाबूलाल\\n\\nपिता का नाम: लालाराम\\n\\nमकान संख्या : 20 फोटो उपलब्ध\\nउम्र : 37 लिंग : पुरुष\\n\\n] ॥76 +#0224447\\n\\nनिर्वाचक का नाम : क्विरण कुमारी\\n\\nपिता का नाम: नरेंद्र सिंह यादव\\n\\nमकान संख्या : 20 फोटो उपलब्ध\\nउम्र : 2। लिंग: महिला\\n\\n84/08/058/000493\\n\\nनिर्वाचक का नाम : रोहताश\\n\\nपिता का नाम: छोटेलाल\\n\\nमकान संख्या : 2] फोटो उपलब्ध\\nउम्र : 63 लिंग: पुरुष\\n\\n| _.. ॥65]| +32073059\\n\\nनिर्वांचक का नाम : विकाश कुमार\\n\\nपिता का नाम: रतीराम\\n\\nमकान संख्या : 9 फोटो उपलब्ध\\nउम्र : 28 लिंग: पुरुष\\n\\n| .. ॥॥७४] | .)0११9838॥\\n\\nनिर्वांचक का नाम : नरेन्द्र कुमार\\n\\nपिता का नाम: लालाराम\\n\\nमकान संख्या : 20 पा उपलब्ध\\nउम्र : 40 लिंग : पुरुष\\n\\n| ॥77] 8./08/058/000423\\n\\nनिर्वांचक का नाम : रामपती\\n\\nपत्ति का नाम: लालाराम\\n\\nमकान संख्या : 20 ध्ण उपलब्ध\\nउम्र : 57 लिंग : महिला\\n\\n॥020038\\n\\nनिर्वाचक का नाम : शर्मिला\\n\\nपति का नाम: बाबूलाल\\n\\nमकान संख्या : 20 हल उपलब्ध\\nउम्र : 36 लिंग : महिला\\n\\n॥77\\nनिर्वाचक का नाम : अंजु देवी\\nअन्य: पवन\\nमकान संख्या : 20\\nउम्र : 34 लिंग : पुरुष\\n\\n| ___॥७]\\n\\nनिर्वांचक का नाम : मन्\\u200d्जूदेवी\\nपति का नाम: नरेन्द्र कुमार\\nमकान संख्या : 20\\n\\nउम्र : 38 लिंग : महिला\\n\\n43/08/058/000880\\n\\n| ॥72]|\\n\\nनिर्वांचक का नाम : लालाराम\\n\\nपिता का नाम: उमराव\\n\\nमकान संख्या : 20 फोटो उपलब्ध\\nउम्र : 59 लिंग : पुरुष\\n\\n| ॥75\\n\\nनिर्वाचक का नाम : पवन\\nपिता का नाम: बनवारी\\nमकान संख्या : 20\\nउम्र : 35 लिंग : पुरुष\\n\\n| ॥78] +0/08/058/000335\\n\\nनिर्वाचक का नाम : सरदारी\\n\\nपति का नाम: छोटेलाल\\n\\nमकान संख्या : 2॥ फोटो उपलब्ध\\nउम्र : 8 लिंग: महिला\\n\\n| [.. ॥]॥890| 8./08/058/00046\\n\\nनिर्वाचक का नाम : निर्मला\\n\\nपति का नाम: रोहताश\\n\\nमकान संख्या : 2 फोटो उपलब्ध\\nउम्र: 6 लिंग: महिला\\n\\n| ____॥83] #02086736 | [|_____॥84] 8072086744\\n\\nनिर्वाचक का नाम : सुमन देवी निर्वाचक का नाम : संदीप कुमार\\n\\nपति का नाम: संदीप पिता का नाम: सज्जन सिंह\\n\\nमकान संख्या : 2 फ़ोटो उपलब्ध | | | मकान संख्या : 2 फ़ोटो उपलब्ध\\nउम्र : 3। लिंग: महिला उम्र : 30 लिंग : पुरुष\\n\\nनियत तिथि को आयु : 0-04-2023 को संदर्भित आयु #/#]॥ प्रकाशन की पूरक तिथि के अनुसार संशोधित : :- 30-04-2023 कुल पृष्ठ 53 - का पृष्ठ 45\\n\\nनिर्वाचक का नाम : अरविन्द निर्वाचक का नाम : रेणु\\nपिता का नाम: रोहिताश्र पति का नाम: अरविन्द\\nमकान संख्या : 2॥ मकान संख्या : 2\\n\\nउम्र : 35 लिंग : पुरुष उम्र : 35 लिंग: महिला\\n\\nनिर्वाचक का नाम : प्रमीला\\nपति का नाम: अशोककुमार\\n\\nमकान संख्या : 22\\nउप्र : 42 लिंग: महिला\\n\\n'"
      ]
     },
     "execution_count": 6,
     "metadata": {},
     "output_type": "execute_result"
    }
   ],
   "source": [
    "text"
   ]
  },
  {
   "cell_type": "code",
   "execution_count": 7,
   "metadata": {},
   "outputs": [],
   "source": [
    "# Regular Expression Pattern\n",
    "name = \"चक का नाम . ([^\\s]+)|चक का नाम. ([^\\s]+)|चक का नाम ([^\\s]+)\"\n",
    "f_name = \"ता का नाम . ([^\\s]+)|ता का नाम. ([^\\s]+)|ति का नाम . ([^\\s]+)|ति का नाम. ([^\\s]+)|ता का नाम ([^\\s]+)|ति का नाम ([^\\s]+)\"\n",
    "age = \"उम्र[^0-9]*(\\d*)|उप्र[^0-9]*(\\d*)|उद्र[^0-9]*(\\d*)\"\n",
    "gender = \"लिंग. ([^\\s]+)|लिंग . ([^\\s]+)|लिंग ([^\\s]+)\"\n",
    "address = \"मकान संख्या[^0-9]*(\\d*)\""
   ]
  },
  {
   "cell_type": "code",
   "execution_count": 8,
   "metadata": {},
   "outputs": [],
   "source": [
    "# Function for getting non empty element from the tuple\n",
    "def get_non_empty_element(my_tuple):\n",
    "    for element in my_tuple:\n",
    "        if element:  # Check if the element is non-empty\n",
    "            return element\n",
    "    return None  # Return None if no non-empty element is found"
   ]
  },
  {
   "cell_type": "code",
   "execution_count": 9,
   "metadata": {},
   "outputs": [],
   "source": [
    "names = []\n",
    "for i in range(0,len(re.findall(name, text))):\n",
    "    names.append(get_non_empty_element(re.findall(name, text)[i]))\n",
    "\n",
    "f_names = []\n",
    "for i in range(0,len(re.findall(f_name, text))):\n",
    "    f_names.append(get_non_empty_element(re.findall(f_name, text)[i]))\n",
    "\n",
    "ages = []\n",
    "for i in range(0,len(re.findall(age, text))):\n",
    "    ages.append(get_non_empty_element(re.findall(age, text)[i]))\n",
    "\n",
    "genders = []\n",
    "for i in range(0,len(re.findall(gender, text))):\n",
    "    genders.append(get_non_empty_element(re.findall(gender, text)[i]))\n",
    "\n",
    "addresss = []\n",
    "for i in range(0,len(re.findall(address, text))):\n",
    "    addresss.append(get_non_empty_element(re.findall(address, text)[i]))"
   ]
  },
  {
   "cell_type": "code",
   "execution_count": 10,
   "metadata": {},
   "outputs": [
    {
     "data": {
      "text/plain": [
       "(27, 5)"
      ]
     },
     "execution_count": 10,
     "metadata": {},
     "output_type": "execute_result"
    }
   ],
   "source": [
    "columns=['Name','Father Name/Husband Name','Age','Gender','House No.']\n",
    "df = pd.DataFrame(list(zip(names, f_names, ages, genders, addresss)),columns=columns)\n",
    "df.shape"
   ]
  },
  {
   "cell_type": "markdown",
   "metadata": {},
   "source": [
    "### Let's do it for all images "
   ]
  },
  {
   "cell_type": "code",
   "execution_count": 11,
   "metadata": {},
   "outputs": [],
   "source": [
    "names = []\n",
    "f_names = []\n",
    "ages = []\n",
    "genders = []\n",
    "addresss = []\n",
    "for i in range(2,8):\n",
    "    img = Image.open(\"img/\"+str(i)+\".jpg\")\n",
    "    text = pytesseract.image_to_string(img, lang =\"hin\")\n",
    "\n",
    "    for i in range(0,len(re.findall(name, text))):\n",
    "        names.append(get_non_empty_element(re.findall(name, text)[i]))\n",
    "\n",
    "    for i in range(0,len(re.findall(f_name, text))):\n",
    "        f_names.append(get_non_empty_element(re.findall(f_name, text)[i]))\n",
    "\n",
    "    for i in range(0,len(re.findall(age, text))):\n",
    "        ages.append(get_non_empty_element(re.findall(age, text)[i]))\n",
    "\n",
    "    for i in range(0,len(re.findall(gender, text))):\n",
    "        genders.append(get_non_empty_element(re.findall(gender, text)[i]))\n",
    "\n",
    "    for i in range(0,len(re.findall(address, text))):\n",
    "        addresss.append(get_non_empty_element(re.findall(address, text)[i]))"
   ]
  },
  {
   "cell_type": "code",
   "execution_count": 12,
   "metadata": {},
   "outputs": [
    {
     "data": {
      "text/plain": [
       "(166, 5)"
      ]
     },
     "execution_count": 12,
     "metadata": {},
     "output_type": "execute_result"
    }
   ],
   "source": [
    "columns=['Name','Father Name/Husband Name','Age','Gender','House No.']\n",
    "df = pd.DataFrame(list(zip(names, f_names, ages, genders, addresss)),columns=columns)\n",
    "df.shape"
   ]
  },
  {
   "cell_type": "code",
   "execution_count": 13,
   "metadata": {},
   "outputs": [
    {
     "data": {
      "text/html": [
       "<div>\n",
       "<style scoped>\n",
       "    .dataframe tbody tr th:only-of-type {\n",
       "        vertical-align: middle;\n",
       "    }\n",
       "\n",
       "    .dataframe tbody tr th {\n",
       "        vertical-align: top;\n",
       "    }\n",
       "\n",
       "    .dataframe thead th {\n",
       "        text-align: right;\n",
       "    }\n",
       "</style>\n",
       "<table border=\"1\" class=\"dataframe\">\n",
       "  <thead>\n",
       "    <tr style=\"text-align: right;\">\n",
       "      <th></th>\n",
       "      <th>Name</th>\n",
       "      <th>Father Name/Husband Name</th>\n",
       "      <th>Age</th>\n",
       "      <th>Gender</th>\n",
       "      <th>House No.</th>\n",
       "    </tr>\n",
       "  </thead>\n",
       "  <tbody>\n",
       "    <tr>\n",
       "      <th>0</th>\n",
       "      <td>ओमली</td>\n",
       "      <td>लालाराम</td>\n",
       "      <td>54</td>\n",
       "      <td>महिला</td>\n",
       "      <td>2</td>\n",
       "    </tr>\n",
       "    <tr>\n",
       "      <th>1</th>\n",
       "      <td>देवेंद्र</td>\n",
       "      <td>लालाराम</td>\n",
       "      <td>79</td>\n",
       "      <td>पुरुष</td>\n",
       "      <td>2</td>\n",
       "    </tr>\n",
       "    <tr>\n",
       "      <th>2</th>\n",
       "      <td>लालाराम</td>\n",
       "      <td>मामचन्द</td>\n",
       "      <td>22</td>\n",
       "      <td>पुरुष</td>\n",
       "      <td>4</td>\n",
       "    </tr>\n",
       "    <tr>\n",
       "      <th>3</th>\n",
       "      <td>श्योत्ताज</td>\n",
       "      <td>गणपतराम</td>\n",
       "      <td>59</td>\n",
       "      <td>पुरुष</td>\n",
       "      <td>2</td>\n",
       "    </tr>\n",
       "    <tr>\n",
       "      <th>4</th>\n",
       "      <td>सावित्री</td>\n",
       "      <td>छाजूराम</td>\n",
       "      <td>69</td>\n",
       "      <td>महिला</td>\n",
       "      <td>4</td>\n",
       "    </tr>\n",
       "  </tbody>\n",
       "</table>\n",
       "</div>"
      ],
      "text/plain": [
       "        Name Father Name/Husband Name Age Gender House No.\n",
       "0       ओमली                  लालाराम  54  महिला         2\n",
       "1   देवेंद्र                  लालाराम  79  पुरुष         2\n",
       "2    लालाराम                  मामचन्द  22  पुरुष         4\n",
       "3  श्योत्ताज                  गणपतराम  59  पुरुष         2\n",
       "4   सावित्री                  छाजूराम  69  महिला         4"
      ]
     },
     "execution_count": 13,
     "metadata": {},
     "output_type": "execute_result"
    }
   ],
   "source": [
    "df.head()"
   ]
  },
  {
   "cell_type": "code",
   "execution_count": 14,
   "metadata": {},
   "outputs": [],
   "source": [
    "df.to_excel('Population.xlsx',index=False)"
   ]
  }
 ],
 "metadata": {
  "kernelspec": {
   "display_name": "Python 3",
   "language": "python",
   "name": "python3"
  },
  "language_info": {
   "codemirror_mode": {
    "name": "ipython",
    "version": 3
   },
   "file_extension": ".py",
   "mimetype": "text/x-python",
   "name": "python",
   "nbconvert_exporter": "python",
   "pygments_lexer": "ipython3",
   "version": "3.11.1"
  },
  "orig_nbformat": 4
 },
 "nbformat": 4,
 "nbformat_minor": 2
}
